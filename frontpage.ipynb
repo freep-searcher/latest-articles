{
 "cells": [
  {
   "cell_type": "code",
   "execution_count": null,
   "metadata": {},
   "outputs": [],
   "source": [
    "import numpy as np\n",
    "import pandas as pd\n",
    "import seaborn as sns\n",
    "\n",
    "# Limit results so this can be minified + shared on pastebin.\n",
    "TOP_POSTER_LIMIT = 10\n",
    "DOMAIN_LIMIT = 25\n",
    "\n",
    "# In the spirit of freepathons being quarterly this will track how\n",
    "# discourse on the frontpage of freerepublic.com evolves over a\n",
    "# quarterly time frame.\n",
    "Q1_2021_TIME_SERIES_QUERY = \"\"\"\n",
    "SELECT\n",
    "    timestamp,\n",
    "    title,\n",
    "    posted_by,\n",
    "    source_url\n",
    "FROM\n",
    "    frontpages;\n",
    "\"\"\"\n",
    "\n",
    "df = pd.read_csv('data.csv')\n",
    "df[\"timestamp\"] = pd.to_datetime(df[\"timestamp\"],unit='s')\n",
    "df[\"title\"] = df[\"title\"].astype(\"category\")\n",
    "df[\"posted_by\"] = df[\"posted_by\"].astype(\"category\")\n",
    "df[\"source_url\"] = df[\"source_url\"].astype(\"category\")"
   ]
  },
  {
   "cell_type": "code",
   "execution_count": null,
   "metadata": {},
   "outputs": [],
   "source": [
    "# A thread is considered sourced if it has a URL link.\n",
    "sourced = df[df.source_url != \"\"]\n",
    "\n",
    "# This is not entirely accurate since some vanity posts have links.\n",
    "vanity = df[df.source_url == \"\"]"
   ]
  },
  {
   "cell_type": "code",
   "execution_count": null,
   "metadata": {},
   "outputs": [],
   "source": [
    "def extract_domain(url) -> str:\n",
    "    return (\n",
    "        url.\n",
    "            replace(\"www.\",\"\").\n",
    "            replace(\"http://\", \"\").\n",
    "            replace(\"https://\", \"\").\n",
    "            split(\"/\")[0]\n",
    "    )\n",
    "\n",
    "\n",
    "sourced.insert(len(sourced.columns)-1, 'domain', (\n",
    "    sourced.\n",
    "        source_url.\n",
    "        apply(extract_domain).\n",
    "        astype(\"category\")\n",
    "))"
   ]
  },
  {
   "cell_type": "code",
   "execution_count": null,
   "metadata": {},
   "outputs": [],
   "source": [
    "# Draws a chart that shows where discussion for a particular thread originated from.\n",
    "data = sourced[[\"source_url\", \"domain\"]].drop_duplicates()\n",
    "sns.countplot(\n",
    "    y=\"domain\",\n",
    "    data=data,\n",
    "    order=data.domain.value_counts().iloc[:DOMAIN_LIMIT].index,\n",
    ")"
   ]
  },
  {
   "cell_type": "code",
   "execution_count": null,
   "metadata": {},
   "outputs": [],
   "source": [
    "# Draws a chart that shows who posted a topic to be discussed that has a URL source.\n",
    "data = sourced[[\"source_url\", \"posted_by\"]].drop_duplicates()\n",
    "top_sourced_posters = data.posted_by.value_counts().iloc[:TOP_POSTER_LIMIT].index\n",
    "sns.countplot(\n",
    "    y=\"posted_by\",\n",
    "    data=data,\n",
    "    order=top_sourced_posters,\n",
    ")"
   ]
  },
  {
   "cell_type": "code",
   "execution_count": null,
   "metadata": {},
   "outputs": [],
   "source": [
    "pd.set_option(\"display.max_rows\", None, \"display.max_columns\", None)\n",
    "\n",
    "# Draws a table that shows which freepers posted topics from a sourced link that originated\n",
    "# from a particular domain.\n",
    "who_is_posting_from_what = (\n",
    "    sourced[[\"posted_by\", \"source_url\", \"domain\"]].\n",
    "    query('posted_by in @top_sourced_posters').\n",
    "    drop_duplicates().\n",
    "    groupby([\"domain\", \"posted_by\"])\n",
    ")\n",
    "who_is_posting_from_what[[\"domain\"]].describe()"
   ]
  }
 ],
 "metadata": {
  "celltoolbar": "Slideshow",
  "kernelspec": {
   "display_name": "Python 3",
   "language": "python",
   "name": "python3"
  },
  "language_info": {
   "codemirror_mode": {
    "name": "ipython",
    "version": 3
   },
   "file_extension": ".py",
   "mimetype": "text/x-python",
   "name": "python",
   "nbconvert_exporter": "python",
   "pygments_lexer": "ipython3",
   "version": "3.9.2"
  }
 },
 "nbformat": 4,
 "nbformat_minor": 4
}
